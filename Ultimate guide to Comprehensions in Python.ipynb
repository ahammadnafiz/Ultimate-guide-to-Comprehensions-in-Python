{
 "cells": [
  {
   "cell_type": "markdown",
   "id": "8327e656",
   "metadata": {},
   "source": [
    "<div align=\"center\">\n",
    "    <h1>Ultimate guide to Comprehensions in Python</h1>\n",
    "</div>"
   ]
  },
  {
   "cell_type": "markdown",
   "id": "9d013836",
   "metadata": {},
   "source": [
    "<div align=\"center\">\n",
    "    <h2>List Comprehensions</h2>\n",
    "</div>"
   ]
  },
  {
   "cell_type": "markdown",
   "id": "91ba645b",
   "metadata": {},
   "source": [
    "### List Comprehensions Syntax\n",
    "\n",
    "List comprehensions provide a concise way to create lists in Python based on an expression and an iterable. The syntax for a basic list comprehension is as follows:\n",
    "\n",
    "- [expression for item in iterables]\n",
    "\n",
    "In this syntax:\n",
    "\n",
    "- `expression` represents the operation or transformation to be performed on each item in the `iterables`.\n",
    "- `item` is a placeholder that represents an individual element from the `iterables`.\n",
    "- `iterables` is one or more iterable objects, such as lists, tuples, or strings, from which the elements are extracted.\n",
    "\n",
    "The list comprehension iterates over each item in the `iterables`, applies the `expression` to it, and generates a new list with the results.\n",
    "\n",
    "Here's an example to illustrate the syntax:\n",
    "\n",
    "```python```\n",
    "\n",
    "        my_list = [1, 2, 3, 4, 5]\n",
    "        squared_list = [num**2 for num in my_list]\n",
    "\n",
    "        In this example, the list comprehension [num**2 for num in my_list] squares each number in my_list and creates a new list squared_list containing the squared values."
   ]
  },
  {
   "cell_type": "code",
   "execution_count": 1,
   "id": "8de35246",
   "metadata": {},
   "outputs": [
    {
     "name": "stdout",
     "output_type": "stream",
     "text": [
      "1 4 9 16 25 36\n"
     ]
    }
   ],
   "source": [
    "nums = [1, 2, 3, 4, 5, 6]\n",
    "result = [i ** 2 for i in nums]   # Here (i ** 2) is the expression \n",
    "print(*result)  # Print the result"
   ]
  },
  {
   "cell_type": "markdown",
   "id": "9b26b05b",
   "metadata": {},
   "source": [
    "### List Comprehensions with Conditional Expression\n",
    "\n",
    "List comprehensions in Python can also include conditional expressions, allowing you to conditionally modify or filter the elements in the resulting list. The syntax for a list comprehension with a conditional expression is as follows:\n",
    "\n",
    "- [expression if condition else alternative_expression for item in iterables]\n",
    "\n",
    "In this syntax:\n",
    "\n",
    "- `expression` represents the operation or transformation to be performed on each item in the `iterables` that satisfies the `condition`.\n",
    "- `condition` is a condition that determines whether the `expression` or `alternative_expression` is applied to the item.\n",
    "- `alternative_expression` represents an alternative operation or transformation to be performed on each item that does not satisfy the `condition`.\n",
    "- `item` is a placeholder that represents an individual element from the `iterables`.\n",
    "\n",
    "The list comprehension iterates over each item in the `iterables`, evaluates the `condition`, and applies the corresponding expression or alternative expression to generate a new list.\n",
    "\n",
    "Here's an example to illustrate the syntax:\n",
    "\n",
    "```python```\n",
    "\n",
    "        my_list = [1, 2, 3, 4, 5]\n",
    "        result_list = [num**2 if num % 2 == 0 else num for num in my_list]\n",
    "\n",
    "        In this example, the list comprehension [num**2 if num % 2 == 0 else num for num in my_list] squares the even numbers and keeps the odd numbers as they are, resulting in a new list result_list."
   ]
  },
  {
   "cell_type": "code",
   "execution_count": 2,
   "id": "20027b54",
   "metadata": {},
   "outputs": [
    {
     "name": "stdout",
     "output_type": "stream",
     "text": [
      "Apple BANANA love Orange love Guava\n"
     ]
    }
   ],
   "source": [
    "# List Comprehensions with Conditional Expression\n",
    "fruits = ['apple', 'BANANA', 'Orange', 'guava']\n",
    "result = [fruit.title() if fruit.islower() else fruit + ' love' for fruit in fruits]\n",
    "print(*result)"
   ]
  },
  {
   "cell_type": "code",
   "execution_count": 3,
   "id": "ba56f392",
   "metadata": {},
   "outputs": [
    {
     "name": "stdout",
     "output_type": "stream",
     "text": [
      "1 2 15 4 5 6\n"
     ]
    }
   ],
   "source": [
    "# Another example\n",
    "result = [i * 5 if i == 3 else i for i in nums]  # Left side of the for (if/else) block used for decision making. If we missed else python gives us an error.                              \n",
    "print(*result)"
   ]
  },
  {
   "cell_type": "code",
   "execution_count": 4,
   "id": "7eb4ef64",
   "metadata": {},
   "outputs": [
    {
     "name": "stdout",
     "output_type": "stream",
     "text": [
      "5 4\n"
     ]
    }
   ],
   "source": [
    "# Example of List comprehensions though dictionary \n",
    "my_list_dict = [{'name': 'nafiz', 'id': 5}, {'name': 'hasib', 'id': 4}]\n",
    "result = [i['id'] for i in my_list_dict]  \n",
    "print(*result)"
   ]
  },
  {
   "cell_type": "markdown",
   "id": "3c9f0e53",
   "metadata": {},
   "source": [
    "### List Comprehensions with Filtering\n",
    "\n",
    "List comprehensions in Python can be used to filter elements from an iterable based on a specified condition. The syntax for a list comprehension with filtering is as follows:\n",
    "\n",
    "- [expression for item in iterables if conditional]\n",
    "\n",
    "In this syntax:\n",
    "\n",
    "- `expression` represents the operation or transformation to be performed on each item in the `iterables` that satisfies the `conditional`.\n",
    "- `item` is a placeholder that represents an individual element from the `iterables`.\n",
    "- `iterables` is one or more iterable objects, such as lists, tuples, or strings, from which the elements are extracted.\n",
    "- `conditional` is a condition that determines whether an item is included in the resulting list.\n",
    "\n",
    "The list comprehension iterates over each item in the `iterables`, evaluates the `conditional`, and includes only the items that satisfy the condition in the resulting list.\n",
    "\n",
    "Here's an example to illustrate the syntax:\n",
    "\n",
    "```python```\n",
    "\n",
    "        my_list = [1, 2, 3, 4, 5]\n",
    "        filtered_list = [num for num in my_list if num % 2 == 0]\n",
    "\n",
    "      In this example, the list comprehension [num for num in my_list if num % 2 == 0] filters the even numbers from my_list and creates a new list filtered_list containing only the even numbers."
   ]
  },
  {
   "cell_type": "code",
   "execution_count": 5,
   "id": "4ec0c7fe",
   "metadata": {},
   "outputs": [
    {
     "name": "stdout",
     "output_type": "stream",
     "text": [
      "2 15 4 5 6\n"
     ]
    }
   ],
   "source": [
    "# Example\n",
    "result = [i * 5 if i == 3 else i for i in nums if i > 1] # In this List comprehensions first we filtering which element if greater than 1, after that we complete our expression for each iterations\n",
    "print(*result)"
   ]
  },
  {
   "cell_type": "code",
   "execution_count": 6,
   "id": "690f0c3a",
   "metadata": {},
   "outputs": [
    {
     "name": "stdout",
     "output_type": "stream",
     "text": [
      "2 9\n"
     ]
    }
   ],
   "source": [
    "# We can also use multiple filtering using multiple if conditionals\n",
    "result = [i * 3 if i == 3 else i for i in nums if i > 1 if i < 4]\n",
    "print(*result)"
   ]
  },
  {
   "cell_type": "markdown",
   "id": "02b7da41",
   "metadata": {},
   "source": [
    "### List Comprehensions with Nested Iteration and Filtering\n",
    "\n",
    "List comprehensions in Python can incorporate nested iteration and filtering, allowing you to create combinations of elements from multiple iterables based on specified conditions. The syntax for such list comprehensions is as follows:\n",
    "\n",
    "- [(item_1, item_2) for item_1 in iterable_1 if (condition) for item_2 in iterable_2]\n",
    "\n",
    "In this syntax:\n",
    "\n",
    "- `item_1` represents an individual element from `iterable_1`.\n",
    "- `item_2` represents an individual element from `iterable_2`.\n",
    "- `iterable_1` and `iterable_2` are two or more iterable objects, such as lists, tuples, or strings.\n",
    "- `(condition)` is a condition that determines whether a combination of `item_1` and `item_2` is included in the resulting list.\n",
    "\n",
    "The list comprehension performs nested iteration, iterating over each element in `iterable_1` and then iterating over each element in `iterable_2`. It applies the specified condition and creates combinations of `item_1` and `item_2` that satisfy the condition in the resulting list.\n",
    "\n",
    "Here's an example to illustrate the syntax:\n",
    "\n",
    "```python```\n",
    "\n",
    "    numbers = [1, 2, 3]\n",
    "    letters = ['a', 'b', 'c']\n",
    "    combinations = [(num, letter) for num in numbers if num % 2 == 0 for letter in letters]\n",
    "\n",
    "           In this example, the list comprehension [(num, letter) for num in numbers if num % 2 == 0 for letter in letters] creates combinations of even numbers from numbers and letters from letters where the number is divisible by 2. The resulting list combinations contains tuples with the valid combinations."
   ]
  },
  {
   "cell_type": "code",
   "execution_count": 7,
   "id": "78932ccb",
   "metadata": {},
   "outputs": [
    {
     "name": "stdout",
     "output_type": "stream",
     "text": [
      "[(2, 'apple'), (2, 'BANANA'), (2, 'Orange'), (2, 'guava'), (3, 'apple'), (3, 'BANANA'), (3, 'Orange'), (3, 'guava'), (4, 'apple'), (4, 'BANANA'), (4, 'Orange'), (4, 'guava'), (5, 'apple'), (5, 'BANANA'), (5, 'Orange'), (5, 'guava')]\n"
     ]
    }
   ],
   "source": [
    "# Example\n",
    "result = [(num, fruit) for num in nums if num > 1 if num < 6 for fruit in fruits]\n",
    "print(result)"
   ]
  },
  {
   "cell_type": "code",
   "execution_count": 8,
   "id": "a6207170",
   "metadata": {},
   "outputs": [
    {
     "name": "stdout",
     "output_type": "stream",
     "text": [
      "(2, 'BANANA') (2, 'Orange') (2, 'guava') (3, 'BANANA') (3, 'Orange') (3, 'guava') (4, 'BANANA') (4, 'Orange') (4, 'guava') (5, 'BANANA') (5, 'Orange') (5, 'guava') "
     ]
    }
   ],
   "source": [
    "# We can visualize the above List comprehensions in normal looping way\n",
    "for num in nums:\n",
    "    if 1 < num:\n",
    "        if num < 6:\n",
    "            for fruit in fruits:\n",
    "                if fruit != 'apple':\n",
    "                    print((num, fruit), end=' ')\n"
   ]
  },
  {
   "cell_type": "code",
   "execution_count": 9,
   "id": "c440daf0",
   "metadata": {},
   "outputs": [
    {
     "name": "stdout",
     "output_type": "stream",
     "text": [
      "[(2, 'BANANA'), (2, 'Orange'), (3, 'BANANA'), (3, 'Orange'), (4, 'BANANA'), (4, 'Orange'), (5, 'BANANA'), (5, 'Orange')]\n"
     ]
    }
   ],
   "source": [
    "# we can add more feature in this List comprehensions\n",
    "result = [(num, fruit) for num in nums if num > 1 if num < 6 for fruit in fruits if fruit != 'apple' and fruit != 'guava']\n",
    "print(result)"
   ]
  },
  {
   "cell_type": "markdown",
   "id": "39b48635",
   "metadata": {},
   "source": [
    "### Python - List comprehension vs map function\n",
    "\n",
    "In Python, you have two options for applying a function to each element of an iterable: using list comprehensions or the `map` function. Let's compare the two approaches:\n",
    "\n",
    "- **List Comprehensions**:\n",
    "    - List comprehensions provide a concise way to create lists by applying an expression to each element of an iterable.\n",
    "    - The syntax for a list comprehension that applies a function to an iterable is `[f(x) for x in iterable]`.\n",
    "    - You can use a lambda function if you don't have a specific function to apply.\n",
    "    - List comprehensions are more readable and Pythonic compared to the `map` function.\n",
    "    - Example: `[x**2 for x in nums]`\n",
    "\n",
    "\n",
    "The `map()` function in Python is a built-in function that takes two arguments: a function and an iterable. It applies the specified function to each element of the iterable and returns a map object, which is an iterator containing the results.\n",
    "\n",
    "The general syntax for using the `map()` function is as follows:\n",
    "\n",
    "                map_object = map(function, iterable)\n",
    "\n",
    "\n",
    "In this syntax:\n",
    "\n",
    "- `function` is the function to be applied to each element of the `iterable`.\n",
    "- `iterable` is a sequence, such as a list, tuple, or string, that will be iterated over.\n",
    "\n",
    "The `map()` function applies the `function` to each element of the `iterable` in a lazy and efficient manner. This means that the function is applied only when requested, and the results are generated on the fly.\n",
    "\n",
    "##### Example: Using the `map()` Function with a Lambda Function\n",
    "\n",
    "Here's an example that demonstrates the usage of the `map()` function with a lambda function:\n",
    "\n",
    "\n",
    "                nums = [1, 2, 3, 4, 5]\n",
    "                squared_nums = list(map(lambda x: x**2, nums))\n",
    "                print(squared_nums)  # Output: [1, 4, 9, 16, 25]\n",
    "                \n",
    "\n",
    "In this example, the `map()` function is used to apply the lambda function `lambda x: x**2` to each element of the `nums` list. The result is a map object that contains the squared values of the numbers. By casting the map object to a list using the `list()` function, we obtain the final result `[1, 4, 9, 16, 25]`.\n",
    "\n",
    "##### Alternative: Unpacking Values without Casting to List\n",
    "\n",
    "Alternatively, you can use the unpacking operator `*` to obtain the values from the map object without explicitly casting it to a list. Here's an example:\n",
    "\n",
    "\n",
    "                nums = [1, 2, 3, 4, 5]\n",
    "                squared_nums = [*map(lambda x: x**2, nums)]\n",
    "                print(squared_nums)  # Output: [1, 4, 9, 16, 25]\n",
    "\n",
    "\n",
    "In this case, the `map()` function is used with the lambda function, and the resulting map object is unpacked using the `*` operator within a list context. This creates a list containing the squared values of the numbers.\n",
    "\n",
    "It's recommended to use list comprehensions instead of the `map` function because they are more readable and aligned with Python's idiomatic style."
   ]
  },
  {
   "cell_type": "code",
   "execution_count": 10,
   "id": "2dbd950c",
   "metadata": {},
   "outputs": [
    {
     "name": "stdout",
     "output_type": "stream",
     "text": [
      "[1, 4, 9, 16, 25, 36]\n"
     ]
    }
   ],
   "source": [
    "# Examples\n",
    "result = list(map(lambda i: i ** 2, nums))\n",
    "print(result)"
   ]
  },
  {
   "cell_type": "code",
   "execution_count": 11,
   "id": "fe550c1b",
   "metadata": {},
   "outputs": [
    {
     "name": "stdout",
     "output_type": "stream",
     "text": [
      "[1, 4, 9, 16, 25, 36]\n"
     ]
    }
   ],
   "source": [
    "# Example for passing fn in List comprehensions\n",
    "def square(num):\n",
    "    return num ** 2\n",
    "\n",
    "result = [square(num) for num in nums]\n",
    "print(result)"
   ]
  },
  {
   "cell_type": "code",
   "execution_count": 12,
   "id": "2c93dffb",
   "metadata": {},
   "outputs": [
    {
     "name": "stdout",
     "output_type": "stream",
     "text": [
      "[11, 22, 33]\n"
     ]
    }
   ],
   "source": [
    "numbers1 = [1, 2, 3]\n",
    "numbers2 = [10, 20, 30]\n",
    "\n",
    "result = [*map(lambda x, y: x + y, numbers1, numbers2)]\n",
    "print(result)  # Output: [11, 22, 33]\n",
    "\n",
    "#In this case, the lambda function adds corresponding elements from `numbers1` and `numbers2` to create a new list."
   ]
  },
  {
   "cell_type": "markdown",
   "id": "89f171cc",
   "metadata": {},
   "source": [
    "### Taking Single Line Input and Applying Function using List Comprehension\n",
    "\n",
    "To take a single line input and apply a function to each element using list comprehension in Python, you can follow these steps:\n",
    "\n",
    "1. Prompt the user for input using the `input()` function.\n",
    "2. Split the input line into individual elements based on a delimiter.\n",
    "3. Convert the elements to the desired data type (e.g., integers or strings).\n",
    "4. Apply the function `f(x)` to each element using list comprehension.\n",
    "5. Optionally, store the resulting list in a variable for further use or display it.\n",
    "\n",
    "Here's an example:\n",
    "\n",
    "```python```\n",
    "#### Taking a single line input and applying a function using list comprehension\n",
    "\n",
    "#### Prompt the user for input\n",
    "        input_line = input(\"Enter a list of numbers separated by spaces: \")\n",
    "\n",
    "#### Split the input line into individual elements\n",
    "        elements = input_line.split()\n",
    "\n",
    "#### Convert the elements to the desired data type\n",
    "        numbers = [int(x) for x in elements]\n",
    "\n",
    "#### Apply the function to each number using list comprehension\n",
    "        result = [f(x) for x in numbers]\n",
    "\n",
    "#### Display the resulting list\n",
    "        print(result)"
   ]
  },
  {
   "cell_type": "code",
   "execution_count": 13,
   "id": "61605882",
   "metadata": {},
   "outputs": [
    {
     "name": "stdout",
     "output_type": "stream",
     "text": [
      "1 2 3\n",
      "1\n"
     ]
    }
   ],
   "source": [
    "user_input = [int(user) for user in input().split()]  # Here input.split() is an iterable because when we \n",
    "print(user_input[0])                                  # split it, it became a str of list so we can iterate over the input()\n",
    "                                                      # Then we pass our iteration value to int() fn and make it single line input generator"
   ]
  },
  {
   "cell_type": "markdown",
   "id": "79d11bc5",
   "metadata": {},
   "source": [
    "### Taking Matrix Input using List Comprehension\n",
    "\n",
    "To take a matrix input from the user in Python using list comprehension, you can follow these steps:\n",
    "\n",
    "1. Use a nested list comprehension to prompt the user for the elements of each row and create the matrix.\n",
    "2. Split the input line into individual elements based on a delimiter.\n",
    "3. Convert the elements to the desired data type (e.g., integers) using list comprehension.\n",
    "4. Create the matrix using the nested list comprehension.\n",
    "5. Optionally, store the resulting matrix in a variable for further use or display it.\n",
    "\n",
    "Here's an example:\n",
    "\n",
    "```python```\n",
    "\n",
    "#### Create the matrix using nested list comprehension\n",
    "        user_matrix = [[int(col) for col in input().split()] for row in range(3)]\n",
    "\n",
    "#### Display the matrix\n",
    "        for row in user_matrix:\n",
    "           print(*row)"
   ]
  },
  {
   "cell_type": "code",
   "execution_count": 14,
   "id": "7a03b220",
   "metadata": {},
   "outputs": [
    {
     "name": "stdout",
     "output_type": "stream",
     "text": [
      "1 2 3\n",
      "4 5 6\n",
      "7 8 9\n",
      "1 2 3\n",
      "4 5 6\n",
      "7 8 9\n"
     ]
    }
   ],
   "source": [
    "user_matrix = [[int(col) for col in input().split()] for row in range(3)]\n",
    "for row in user_matrix:\n",
    "    print(*row)"
   ]
  },
  {
   "cell_type": "markdown",
   "id": "dfb38c49",
   "metadata": {},
   "source": [
    "## List Comprehension vs Filter in Python\n",
    "\n",
    "### Using List Comprehension for Filtering\n",
    "\n",
    "List comprehension provides a concise and expressive way to filter elements from an iterable based on certain conditions. The syntax for list comprehension is as follows:\n",
    "\n",
    "- [expression for item in iterable if condition]\n",
    "\n",
    "In this syntax, the `if` conditional part, which comes after the `for` loop, is used for filtering the elements based on the specified condition. Additionally, you can also pass a function to the `if` conditional part to perform more complex filtering operations. The updated syntax would be:\n",
    "\n",
    "- [expression for item in iterable if fn()]\n",
    "\n",
    "### Using the `filter()` Function\n",
    "\n",
    "Python's `filter()` function is another way to filter elements from an iterable based on a given function. Here's an example <br>usage of the `filter()` function:\n",
    "\n",
    "```python```\n",
    "\n",
    "- filter(fn, iterable)\n",
    "\n",
    "         list(filter(lambda i: i > 1, map(int, [1, 2, 3])))\n",
    "    \n",
    "This is equivalent to the following list comprehension:\n",
    "    \n",
    "        [int(i) for i in [1, 2, 3] if i > 1]\n",
    "\n",
    "Both approaches allow you to filter elements from an iterable using a specified condition or function."
   ]
  },
  {
   "cell_type": "code",
   "execution_count": 15,
   "id": "3ef999fb",
   "metadata": {},
   "outputs": [
    {
     "name": "stdout",
     "output_type": "stream",
     "text": [
      "3 4 5 6\n"
     ]
    }
   ],
   "source": [
    "# With list comprehension\n",
    "result = [i for i in nums if i > 2]\n",
    "print(*result)"
   ]
  },
  {
   "cell_type": "code",
   "execution_count": 16,
   "id": "5987f637",
   "metadata": {},
   "outputs": [
    {
     "name": "stdout",
     "output_type": "stream",
     "text": [
      "3 4 5 6\n"
     ]
    }
   ],
   "source": [
    "# With filter function\n",
    "result = list(filter(lambda i: i > 2, nums))\n",
    "print(*result)"
   ]
  },
  {
   "cell_type": "code",
   "execution_count": 17,
   "id": "ae5defe9",
   "metadata": {},
   "outputs": [
    {
     "name": "stdout",
     "output_type": "stream",
     "text": [
      "3 4 5 6\n"
     ]
    }
   ],
   "source": [
    "# pass fn to filter list\n",
    "def greater_than_two(num):\n",
    "    return num > 2\n",
    "\n",
    "result = [num for num in nums if greater_than_two(num)]\n",
    "print(*result)"
   ]
  },
  {
   "cell_type": "code",
   "execution_count": 18,
   "id": "67f16c2f",
   "metadata": {},
   "outputs": [
    {
     "name": "stdout",
     "output_type": "stream",
     "text": [
      "[3, 4, 5, 6]\n"
     ]
    }
   ],
   "source": [
    "# pass fn to filter function\n",
    "result = list(filter(greater_than_two, nums))\n",
    "print(result)"
   ]
  },
  {
   "cell_type": "markdown",
   "id": "cd1120ad",
   "metadata": {},
   "source": [
    "### Filtering with `None` Data Type\n",
    "\n",
    "When filtering through values in Python, we can also filter through `None` values. In Python, `None` represents the absence of a value.\n",
    "\n",
    "Here are some points to keep in mind when filtering through `None` values:\n",
    "\n",
    "- Boolean values: In Python, `True` is equivalent to `1` and `False` is equivalent to `0`.\n",
    "- Empty containers: Empty lists, tuples, strings, and dictionaries are considered as `False` values in Python.\n",
    "\n",
    "To filter through `None` values and return true values, you can use the `filter()` function or list comprehension.\n",
    "\n",
    "Here's an example using `filter()`:\n",
    "\n",
    "```python```\n",
    "\n",
    "        result = filter(None, [True, False, '', {}, [], 'hi'])\n",
    "        filtered_values = list(result)\n",
    "        print(filtered_values)\n",
    "\n",
    "Alternatively, you can achieve the same result using list comprehension:\n",
    "    \n",
    "        iterable = [True, False, '', {}, [], 'hi']\n",
    "        filtered_values = [i for i in iterable if bool(i) is not None]\n",
    "        print(filtered_values)"
   ]
  },
  {
   "cell_type": "code",
   "execution_count": 19,
   "id": "a97b4ff3",
   "metadata": {},
   "outputs": [
    {
     "name": "stdout",
     "output_type": "stream",
     "text": [
      "[1, 2, True]\n"
     ]
    }
   ],
   "source": [
    "# with filter fn\n",
    "result = list(filter(None, [1, 2, True, False, '', {}, []]))\n",
    "print(result)"
   ]
  },
  {
   "cell_type": "code",
   "execution_count": 20,
   "id": "99609052",
   "metadata": {},
   "outputs": [
    {
     "name": "stdout",
     "output_type": "stream",
     "text": [
      "[1, 2, True]\n"
     ]
    }
   ],
   "source": [
    "# With List comprehension\n",
    "result = [i for i in [1, 2, True, False, '', {}, []] if bool(i) != bool(None)]\n",
    "print(result)"
   ]
  },
  {
   "cell_type": "markdown",
   "id": "e7a25eeb",
   "metadata": {},
   "source": [
    "### List comprehension vs reduce in Python\n",
    "        The reduce function is part of Python's functools module and provides a way to perform a cumulative computation on a   sequence of elements. It applies a specified function to the elements of an iterable, reducing them to a single value. The syntax for using reduce is as follows:\n",
    "        \n",
    "            from functools import reduce\n",
    "            result = reduce(function, iterable, initializer)\n",
    "                                |\n",
    "                                 --> This fn needs to take two arguments, because we are comparing \n",
    "                                 (x, y) or two things all the time\n",
    "            \n",
    "- The reduce function is particularly useful when you need to perform operations such as summation, multiplication, or <br>aggregation on a sequence.\n",
    "- It requires an explicit import from the functools module.\n",
    "- The specified function should take two arguments and return a single value.\n",
    "- The initializer argument is optional and represents the initial value from which the reduction starts.\n",
    "- The resulting value is the accumulation of applying the function to the elements of the iterable.\n",
    "            \n",
    "            For sum of a list if we use list comprehension\n",
    "                Ex: sum([i for i in iterable])\n",
    "            If we use reduce fn-->\n",
    "                Ex: reduce(lamda x, y: x + y, iterable)"
   ]
  },
  {
   "cell_type": "code",
   "execution_count": 21,
   "id": "b1d54271",
   "metadata": {},
   "outputs": [
    {
     "name": "stdout",
     "output_type": "stream",
     "text": [
      "21\n"
     ]
    }
   ],
   "source": [
    "# Using list comprehension\n",
    "result = sum([num for num in nums])  # for summing all the iterable values \n",
    "print(result)"
   ]
  },
  {
   "cell_type": "code",
   "execution_count": 22,
   "id": "1a95e176",
   "metadata": {},
   "outputs": [
    {
     "name": "stdout",
     "output_type": "stream",
     "text": [
      "21\n"
     ]
    }
   ],
   "source": [
    "# Using reduce\n",
    "from functools import reduce\n",
    "result = reduce(lambda x, y: x + y, nums)\n",
    "print(result)"
   ]
  },
  {
   "cell_type": "code",
   "execution_count": 23,
   "id": "0e7026db",
   "metadata": {},
   "outputs": [
    {
     "name": "stdout",
     "output_type": "stream",
     "text": [
      "[1, 2, 3, 4, 5, 6, 7, 8, 9]\n"
     ]
    }
   ],
   "source": [
    "# Flattening a nested list using List Comprehension\n",
    "nested_list = [[1, 2, 3], [4, 5, 6], [7, 8, 9]]\n",
    "flattened_list = [item for sublist in nested_list for item in sublist]\n",
    "print(flattened_list)  # Output: [1, 2, 3, 4, 5, 6, 7, 8, 9]"
   ]
  },
  {
   "cell_type": "code",
   "execution_count": 24,
   "id": "76098af9",
   "metadata": {},
   "outputs": [
    {
     "name": "stdout",
     "output_type": "stream",
     "text": [
      "[1, 2, 3, 4, 5, 6, 7, 8, 9]\n"
     ]
    }
   ],
   "source": [
    "# Flattening a nested list using reduce fn\n",
    "flattened_list = reduce(lambda x, y: x + y, nested_list)   # Because it adds two list and continue it's process\n",
    "print(flattened_list)"
   ]
  },
  {
   "cell_type": "code",
   "execution_count": 25,
   "id": "f3648bbd",
   "metadata": {},
   "outputs": [
    {
     "name": "stdout",
     "output_type": "stream",
     "text": [
      "58\n"
     ]
    }
   ],
   "source": [
    "# finding max num using reduce fn\n",
    "my_list = [1, 8, 10, 0, 9, 58, 3]\n",
    "result = reduce(lambda x, y: x if x > y else y, my_list)\n",
    "print(result)"
   ]
  },
  {
   "cell_type": "code",
   "execution_count": 26,
   "id": "5f736985",
   "metadata": {},
   "outputs": [
    {
     "name": "stdout",
     "output_type": "stream",
     "text": [
      "58\n"
     ]
    }
   ],
   "source": [
    "# Finding max num using max fn\n",
    "result = max([i for i in my_list])\n",
    "print(result)"
   ]
  },
  {
   "cell_type": "markdown",
   "id": "e6143bc2",
   "metadata": {},
   "source": [
    "### List Comprehensions with Multiple For Loops (Nested For Loops)\n",
    "\n",
    "List comprehensions in Python can have multiple for loops, also known as nested for loops or double iteration. This allows you to generate a list by iterating over multiple iterables simultaneously. The general syntax for list comprehensions with multiple for loops is as follows:\n",
    "            \n",
    "     new_list = [(expression) for (variable1) in (iterable1) for (variable2) in (iterable2) ... for (variablen) in (iterablen)]\n",
    "                                        |                                                              |\n",
    "                                        |                                                              |\n",
    "                                        |                                           And the rightmost for loop will be \n",
    "                                        |                                                 the (inner loop)\n",
    "                                        |\n",
    "                                        |\n",
    "                                         ---> In this the leftmost for loop will be the (outer loop)\n",
    "                                         \n",
    "                                         \n",
    "In this syntax:\n",
    "\n",
    "- `new_list` is the name of the new list that will be created.\n",
    "- `(expression)` represents an expression or a computation that determines the value of each element in the new list.\n",
    "- This `(expression)` can be any iterable like Dictionary {}, tuple (), list []\n",
    "- `(variable1)`, `(variable2)`, ..., `(variablen)` are the loop variables used to iterate over the corresponding `(iterable1)`, `(iterable2)`, ..., `(iterablen)`.\n",
    "- `(iterable1)`, `(iterable2)`, ..., `(iterablen)` are sequences, such as lists or tuples, that contain the elements used for iteration.\n",
    "          \n",
    "#### we can also visualize it though normal way\n",
    "            \n",
    "            for i in iterables:\n",
    "                for j in iterables:\n",
    "                    .\n",
    "                    .\n",
    "                    .\n",
    "                        for n in iterables :\n",
    "                            print(i, j, ... n)"
   ]
  },
  {
   "cell_type": "code",
   "execution_count": 27,
   "id": "56586556",
   "metadata": {},
   "outputs": [
    {
     "name": "stdout",
     "output_type": "stream",
     "text": [
      "[(1, 'a'), (1, 'b'), (1, 'c'), (2, 'a'), (2, 'b'), (2, 'c'), (3, 'a'), (3, 'b'), (3, 'c')]\n"
     ]
    }
   ],
   "source": [
    "# A list of Tuples\n",
    "numbers = [1, 2, 3]\n",
    "letters = ['a', 'b', 'c']\n",
    "combined_list = [(num, letter) for num in numbers for letter in letters]\n",
    "print(combined_list)"
   ]
  },
  {
   "cell_type": "code",
   "execution_count": 28,
   "id": "2f7e0852",
   "metadata": {},
   "outputs": [
    {
     "name": "stdout",
     "output_type": "stream",
     "text": [
      "[{1, 'a'}, {1, 'b'}, {1, 'c'}, {2, 'a'}, {'b', 2}, {2, 'c'}, {3, 'a'}, {'b', 3}, {3, 'c'}]\n"
     ]
    }
   ],
   "source": [
    "# A list of Dictionarys\n",
    "numbers = [1, 2, 3]\n",
    "letters = ['a', 'b', 'c']\n",
    "combined_list = [{num, letter} for num in numbers for letter in letters]\n",
    "print(combined_list)"
   ]
  },
  {
   "cell_type": "code",
   "execution_count": 29,
   "id": "1048c058",
   "metadata": {},
   "outputs": [
    {
     "name": "stdout",
     "output_type": "stream",
     "text": [
      "[[1, 'a'], [1, 'b'], [1, 'c'], [2, 'a'], [2, 'b'], [2, 'c'], [3, 'a'], [3, 'b'], [3, 'c']]\n"
     ]
    }
   ],
   "source": [
    "# A list of Lists\n",
    "numbers = [1, 2, 3]\n",
    "letters = ['a', 'b', 'c']\n",
    "combined_list = [[num, letter] for num in numbers for letter in letters]\n",
    "print(combined_list)"
   ]
  },
  {
   "cell_type": "code",
   "execution_count": 30,
   "id": "c89b81f0",
   "metadata": {},
   "outputs": [
    {
     "name": "stdout",
     "output_type": "stream",
     "text": [
      "[1, 2, 3, 4, 5, 6, 7, 8, 9]\n"
     ]
    }
   ],
   "source": [
    "# Flattening a nested list using List Comprehension\n",
    "nested_list = [[1, 2, 3], [4, 5, 6], [7, 8, 9]]\n",
    "flattened_list = [item for sublist in nested_list for item in sublist]\n",
    "print(flattened_list)  # Output: [1, 2, 3, 4, 5, 6, 7, 8, 9]"
   ]
  },
  {
   "cell_type": "markdown",
   "id": "996fa781",
   "metadata": {},
   "source": [
    "### 3 Ways to Print in List comprehensions (Printing List Comps for Debugging)\n",
    "\n",
    "\n",
    "In Python, when using list comprehensions, the expressions inside the comprehension are evaluated and added to the resulting list. However, when using a function that only performs printing without returning a value, it will evaluate to `None` by default. This behavior can be observed when using list comprehensions with the `print()` function.\n",
    "\n",
    "Let's consider the following example:\n",
    "\n",
    "```python```\n",
    "\n",
    "            [print(i) for i in range(3)]\n",
    "\n",
    "When executed in a Jupyter Notebook, this code will print the values 0, 1, and 2 to the notebook cell output. However, since the print() function does not have a return value, the resulting list will contain None for each iteration. This is because the list comprehension evaluates the expressions but does not capture any return values.\n",
    "\n",
    "The output will be as follows:\n",
    "        \n",
    "             0\n",
    "             1\n",
    "             2\n",
    "             [None, None, None]\n",
    "             \n",
    "To capture the values returned by a function in a list comprehension, the function should explicitly return the desired value. Let's consider an example using a custom function printreturn() that returns the input value:\n",
    "\n",
    "1st way: \n",
    "           def printreturn(i):\n",
    "                return i\n",
    "\n",
    "            [printreturn(i) for i in range(3)]\n",
    "            \n",
    "The output will be as follows:\n",
    "        \n",
    "             0\n",
    "             1\n",
    "             2\n",
    "             [0, 1, 2]\n",
    "\n",
    "2nd way: \n",
    "    \n",
    "             print([i for i in range(3)])\n",
    "\n",
    "3rd way: \n",
    "                    \n",
    "             [print(i) or i for i in range(3)]"
   ]
  },
  {
   "cell_type": "code",
   "execution_count": 31,
   "id": "9a583cc0",
   "metadata": {},
   "outputs": [
    {
     "data": {
      "text/plain": [
       "[0, 1, 2]"
      ]
     },
     "execution_count": 31,
     "metadata": {},
     "output_type": "execute_result"
    }
   ],
   "source": [
    "def printreturn(i):\n",
    "    return i\n",
    "[printreturn(i) for i in range(3)]"
   ]
  },
  {
   "cell_type": "code",
   "execution_count": 32,
   "id": "b96bd580",
   "metadata": {},
   "outputs": [
    {
     "name": "stdout",
     "output_type": "stream",
     "text": [
      "[0, 1, 2]\n"
     ]
    }
   ],
   "source": [
    "print([i for i in range(3)])"
   ]
  },
  {
   "cell_type": "code",
   "execution_count": 33,
   "id": "675c5cfb",
   "metadata": {},
   "outputs": [
    {
     "name": "stdout",
     "output_type": "stream",
     "text": [
      "0\n",
      "1\n",
      "2\n"
     ]
    },
    {
     "data": {
      "text/plain": [
       "[0, 1, 2]"
      ]
     },
     "execution_count": 33,
     "metadata": {},
     "output_type": "execute_result"
    }
   ],
   "source": [
    "[print(i) or i for i in range(3)]"
   ]
  },
  {
   "cell_type": "markdown",
   "id": "d49ff283",
   "metadata": {},
   "source": [
    "<div align=\"center\">\n",
    "    <h1>Dictionary Comprehension</h1>\n",
    "</div>"
   ]
  },
  {
   "cell_type": "markdown",
   "id": "6663502b",
   "metadata": {},
   "source": [
    "### Dictionary Comprehension Syntax\n",
    "\n",
    "The syntax for dictionary comprehension in Python is as follows:\n",
    "\n",
    "        my_dict = {key: expression for (key, value) in iterable}\n",
    "        \n",
    "In this syntax:\n",
    "\n",
    "- `my_dict` is the name of the dictionary that will be created.\n",
    "- `key` represents the key of each key-value pair in the resulting dictionary.\n",
    "- `expression` is an expression that will be evaluated to determine the value of each key-value pair.\n",
    "- `(key, value)` is the unpacking pattern that extracts the key and value from each element of the `iterable`.\n",
    "- `iterable` is a sequence, such as a list or a tuple, that contains the elements used to create the dictionary.\n",
    "\n",
    "The resulting dictionary `my_dict` will contain key-value pairs, where the key is extracted from the `iterable` and the value is determined by the `expression` for each element in the `iterable`."
   ]
  },
  {
   "cell_type": "code",
   "execution_count": 34,
   "id": "085fa9e5",
   "metadata": {},
   "outputs": [
    {
     "name": "stdout",
     "output_type": "stream",
     "text": [
      "{'dhaka': 75.2, 'sylet': 78.8, 'barisal': 80.6, 'cumilla': 77.0}\n"
     ]
    }
   ],
   "source": [
    "# Example for simple Dictionary Comprehension\n",
    "tempreture = {\"dhaka\": 24, \"sylet\": 26, \"barisal\": 27, \"cumilla\": 25}\n",
    "c_to_f = {key: (value * 9/5) + 32 for (key, value) in tempreture.items()}\n",
    "print(c_to_f)"
   ]
  },
  {
   "cell_type": "markdown",
   "id": "2537570c",
   "metadata": {},
   "source": [
    "### Dictionary Comprehension with Filtering\n",
    "\n",
    "Dictionary comprehensions in Python can include filtering to selectively include key-value pairs based on certain conditions. The syntax for dictionary comprehension with filtering is as follows:\n",
    "             \n",
    "             new_dict = {key: expression for (key, value) in iterable if condition}\n",
    "             \n",
    "In this syntax:\n",
    "\n",
    "- `new_dict` is the name of the new dictionary that will be created.\n",
    "- `key` represents the key of each key-value pair in the resulting dictionary.\n",
    "- `expression` is an expression that will be evaluated to determine the value of each key-value pair.\n",
    "- `(key, value)` is the unpacking pattern that extracts the key and value from each element of the `iterable`.\n",
    "- `iterable` is a sequence, such as a list or a tuple, that contains the elements used to create the new dictionary.\n",
    "- `condition` is an optional condition that filters the elements based on a specific criterion. Only the elements that satisfy the condition will be included in the new dictionary.\n",
    "\n",
    "#### Example\n",
    "\n",
    "Here's an example to illustrate dictionary comprehension with filtering:\n",
    "\n",
    "            my_dict = {'apple': 3, 'banana': 5, 'orange': 2, 'kiwi': 1}\n",
    "            filtered_dict = {key: value for (key, value) in my_dict.items() if value > 2}\n",
    "            print(filtered_dict)  # Output: {'apple': 3, 'banana': 5}\n",
    "      \n",
    "       In this example, a dictionary comprehension is used to filter out the key-value pairs from\n",
    "       `my_dict` where the value is greater than 2. \n",
    "       The resulting `filtered_dict` will only contain the key-value pairs that satisfy the condition.\n",
    "    "
   ]
  },
  {
   "cell_type": "code",
   "execution_count": 35,
   "id": "1ad339ce",
   "metadata": {},
   "outputs": [
    {
     "name": "stdout",
     "output_type": "stream",
     "text": [
      "{'sylet': 78.8, 'barisal': 80.6}\n"
     ]
    }
   ],
   "source": [
    "# Dictionary Comprehension with Filtering\n",
    "c_to_f = {key: (value * 9/5) + 32 for (key, value) in tempreture.items() if value > 25}\n",
    "print(c_to_f)"
   ]
  },
  {
   "cell_type": "markdown",
   "id": "fd484d09",
   "metadata": {},
   "source": [
    "### Dictionary Comprehension with Conditional Expression\n",
    "\n",
    "Dictionary comprehensions in Python can include conditional expressions to selectively assign values to key-value pairs based on certain conditions. The syntax for dictionary comprehension with conditional expression is as follows:\n",
    "\n",
    "       new_dict = {key: (value_if_true) if (condition) else (value_if_false) for (key, value) in iterable}\n",
    "       new_dict = {(key_if_true) if (condition) else (key_if_false): value for (key, value) in iterable}\n",
    "            \n",
    "In this syntax:\n",
    "\n",
    "- `new_dict` is the name of the new dictionary that will be created.\n",
    "- `key` represents the key of each key-value pair in the resulting dictionary.\n",
    "- `value_if_true` is the value assigned to the key if the condition is true.\n",
    "- `value_if_false` is the value assigned to the key if the condition is false.\n",
    "- `(key, value)` is the unpacking pattern that extracts the key and value from each element of the `iterable`.\n",
    "- `iterable` is a sequence, such as a list or a tuple, that contains the elements used to create the new dictionary.\n",
    "- `condition` is the condition that determines which value to assign to the key.\n",
    "\n",
    "##### Example\n",
    "\n",
    "Here's an example to illustrate dictionary comprehension with conditional expression:\n",
    "\n",
    "```python```\n",
    "\n",
    "        my_dict = {'apple': 3, 'banana': 5, 'orange': 2, 'kiwi': 1}\n",
    "        discounted_dict = {key: value * 0.8 if value >= 3 else value for (key, value) in my_dict.items()}\n",
    "        print(discounted_dict)  # Output: {'apple': 2.4, 'banana': 4.0, 'orange': 2, 'kiwi': 1}"
   ]
  },
  {
   "cell_type": "code",
   "execution_count": 36,
   "id": "76e19bd2",
   "metadata": {},
   "outputs": [
    {
     "name": "stdout",
     "output_type": "stream",
     "text": [
      "{'dhaka': 24, 'sylet': 78.8, 'barisal': 80.6, 'cumilla': 25}\n"
     ]
    }
   ],
   "source": [
    "# Dictionary Comprehension with Conditional Expression(value)\n",
    "c_to_f = {key: (value * 9/5) + 32 if value > 25 else value for (key, value) in tempreture.items()}\n",
    "print(c_to_f)"
   ]
  },
  {
   "cell_type": "code",
   "execution_count": 37,
   "id": "dc8cff77",
   "metadata": {},
   "outputs": [
    {
     "name": "stdout",
     "output_type": "stream",
     "text": [
      "{'dhaka': 75.2, 'SYLET': 78.8, 'BARISAL': 80.6, 'cumilla': 77.0}\n"
     ]
    }
   ],
   "source": [
    "# Dictionary Comprehension with Conditional Expression(key)\n",
    "c_to_f = {(key.upper() if value > 25 else key): (value * 9/5) + 32 for (key, value) in tempreture.items()}\n",
    "print(c_to_f)"
   ]
  },
  {
   "cell_type": "code",
   "execution_count": 38,
   "id": "04155741",
   "metadata": {},
   "outputs": [
    {
     "name": "stdout",
     "output_type": "stream",
     "text": [
      "{'dhaka': 75.2, 'UIU': 77.0}\n"
     ]
    }
   ],
   "source": [
    "# Another condition\n",
    "c_to_f = {(key if key == 'dhaka' else 'UIU'): (value * 9/5) + 32 for (key, value) in tempreture.items()}\n",
    "print(c_to_f)    # In the result if key not equal to dhaka it will return the last value of the dict and assign it to the else condition"
   ]
  },
  {
   "cell_type": "code",
   "execution_count": 39,
   "id": "2d14ba41",
   "metadata": {},
   "outputs": [
    {
     "name": "stdout",
     "output_type": "stream",
     "text": [
      "{'UIU': 80.6}\n"
     ]
    }
   ],
   "source": [
    "# Combined all of this \n",
    "c_to_f = {(key if key == 'dhaka' else 'UIU'): (value * 9/5) + 32 if value > 26 else value for (key, value) in tempreture.items() if value > 25}\n",
    "print(c_to_f)"
   ]
  },
  {
   "cell_type": "markdown",
   "id": "212a2428",
   "metadata": {},
   "source": [
    "### Dictionary Comprehension with Function\n",
    "\n",
    "Dictionary comprehensions in Python can include applying a function to the values while creating a new dictionary. The syntax for dictionary comprehension with a function is as follows:\n",
    "\n",
    "            new_dict = {key: fn(value) for (key, value) in iterable}\n",
    "            \n",
    "In this syntax:\n",
    "\n",
    "- `new_dict` is the name of the new dictionary that will be created.\n",
    "- `key` represents the key of each key-value pair in the resulting dictionary.\n",
    "- `fn` is the function applied to the corresponding value.\n",
    "- `value` is the value extracted from each element of the `iterable`.\n",
    "- `(key, value)` is the unpacking pattern that extracts the key and value from each element of the `iterable`.\n",
    "- `iterable` is a sequence, such as a list or a tuple, that contains the elements used to create the new dictionary.\n",
    "\n",
    "#### Example\n",
    "\n",
    "Here's an example to illustrate dictionary comprehension with a function applied to the values:\n",
    "\n",
    "```python```\n",
    "\n",
    "          def square_root(value):\n",
    "               return value ** 0.5\n",
    "\n",
    "          numbers = {'a': 9, 'b': 16, 'c': 25, 'd': 36}\n",
    "          root_dict = {key: square_root(value) for key, value in numbers.items() if value > 10}\n",
    "          print(root_dict)  # Output: {'b': 4.0, 'c': 5.0, 'd': 6.0}"
   ]
  },
  {
   "cell_type": "code",
   "execution_count": 40,
   "id": "54a8b079",
   "metadata": {},
   "outputs": [
    {
     "name": "stdout",
     "output_type": "stream",
     "text": [
      "{'b': 4.0, 'c': 5.0, 'd': 6.0}\n"
     ]
    }
   ],
   "source": [
    "def square_root(value):\n",
    "    return value ** 0.5\n",
    "\n",
    "numbers = {'a': 9, 'b': 16, 'c': 25, 'd': 36}\n",
    "root_dict = {key: square_root(value) for key, value in numbers.items() if value > 10}\n",
    "print(root_dict)  # Output: {'b': 4.0, 'c': 5.0, 'd': 6.0}"
   ]
  },
  {
   "cell_type": "code",
   "execution_count": 41,
   "id": "32bff586",
   "metadata": {},
   "outputs": [
    {
     "name": "stdout",
     "output_type": "stream",
     "text": [
      "{0: 'nafiz', 1: 'TAHA', 2: 'sunan'}\n"
     ]
    }
   ],
   "source": [
    "d = {key: value for (key, value) in enumerate(['nafiz', 'taha', 'sunan'])}\n",
    "my_dict = {key: value.upper() if key == 1 else value for (key, value) in d.items()}\n",
    "print(my_dict)"
   ]
  },
  {
   "cell_type": "code",
   "execution_count": 42,
   "id": "303d2f29",
   "metadata": {},
   "outputs": [
    {
     "name": "stdout",
     "output_type": "stream",
     "text": [
      "[1, 2, '', 6]\n"
     ]
    }
   ],
   "source": [
    "my_list = [1, 2, '', [], [], 6]\n",
    "new_list = list(filter(lambda x:x != [], my_list))\n",
    "print(new_list)"
   ]
  }
 ],
 "metadata": {
  "kernelspec": {
   "display_name": "Python 3 (ipykernel)",
   "language": "python",
   "name": "python3"
  },
  "language_info": {
   "codemirror_mode": {
    "name": "ipython",
    "version": 3
   },
   "file_extension": ".py",
   "mimetype": "text/x-python",
   "name": "python",
   "nbconvert_exporter": "python",
   "pygments_lexer": "ipython3",
   "version": "3.11.5"
  }
 },
 "nbformat": 4,
 "nbformat_minor": 5
}
